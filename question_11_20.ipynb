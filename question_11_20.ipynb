{
 "cells": [
  {
   "cell_type": "code",
   "execution_count": 4,
   "metadata": {},
   "outputs": [
    {
     "data": {
      "text/plain": [
       "True"
      ]
     },
     "execution_count": 4,
     "metadata": {},
     "output_type": "execute_result"
    }
   ],
   "source": [
    "#11\n",
    "import cv2 \n",
    "import numpy as np\n",
    "import matplotlib.pyplot as plt\n",
    "\n",
    "img = cv2.imread(\"imori.jpg\")\n",
    "\n",
    "img_smooth = cv2.blur(img, ksize=(3, 3))\n",
    "\n",
    "cv2.imwrite(\"answers/img_smooth.jpg\", img_smooth)"
   ]
  },
  {
   "cell_type": "code",
   "execution_count": 7,
   "metadata": {},
   "outputs": [
    {
     "data": {
      "text/plain": [
       "True"
      ]
     },
     "execution_count": 7,
     "metadata": {},
     "output_type": "execute_result"
    }
   ],
   "source": [
    "#12\n",
    "import cv2 \n",
    "import numpy as np\n",
    "import matplotlib.pyplot as plt\n",
    "\n",
    "img = cv2.imread(\"imori.jpg\")\n",
    "kernel_motion = np.array([[1/3, 0, 0],\n",
    "                           [0, 1/3, 0], \n",
    "                           [0, 0, 1/3]],np.float32)\n",
    "\n",
    "img_motion = cv2.filter2D(img, -1, kernel=kernel_motion)\n",
    "\n",
    "cv2.imwrite(\"answers/img_motion.jpg\", img_motion)"
   ]
  },
  {
   "cell_type": "code",
   "execution_count": 21,
   "metadata": {},
   "outputs": [
    {
     "data": {
      "text/plain": [
       "True"
      ]
     },
     "execution_count": 21,
     "metadata": {},
     "output_type": "execute_result"
    }
   ],
   "source": [
    "#13\n",
    "import cv2\n",
    "import numpy as np\n",
    "img = cv2.imread(\"imori.jpg\")\n",
    "\n",
    "row, col, bgr = img.shape\n",
    "R = 3\n",
    "pad = R // 2\n",
    "out = np.zeros((row + pad * 2, col + pad * 2, bgr), dtype=np.float64)\n",
    "out[pad:pad+row, pad:pad+col] = img.copy().astype(np.float64)\n",
    "tmp = out.copy()\n",
    "\n",
    "for i in range(row):\n",
    "    for j in range(col):\n",
    "        out[pad + i, pad + j, :] = np.max(tmp[i:i+R, j:j+R, :]) - np.min(tmp[i:i+R, j:j+R, :])\n",
    "\n",
    "img_max_min = out[pad:pad + row, pad:pad + col].astype(np.uint8)\n",
    "\n",
    "cv2.imwrite(\"answers/img_max-min.jpg\", img_max_min)"
   ]
  },
  {
   "cell_type": "code",
   "execution_count": null,
   "metadata": {},
   "outputs": [],
   "source": []
  }
 ],
 "metadata": {
  "kernelspec": {
   "display_name": "Python 3",
   "language": "python",
   "name": "python3"
  },
  "language_info": {
   "codemirror_mode": {
    "name": "ipython",
    "version": 3
   },
   "file_extension": ".py",
   "mimetype": "text/x-python",
   "name": "python",
   "nbconvert_exporter": "python",
   "pygments_lexer": "ipython3",
   "version": "3.11.4"
  },
  "orig_nbformat": 4
 },
 "nbformat": 4,
 "nbformat_minor": 2
}
