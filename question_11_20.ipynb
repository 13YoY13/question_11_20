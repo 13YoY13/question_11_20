{
 "cells": [
  {
   "cell_type": "code",
   "execution_count": 37,
   "metadata": {},
   "outputs": [
    {
     "data": {
      "text/plain": [
       "True"
      ]
     },
     "execution_count": 37,
     "metadata": {},
     "output_type": "execute_result"
    }
   ],
   "source": [
    "#11\n",
    "import cv2 \n",
    "import numpy as np\n",
    "import matplotlib.pyplot as plt\n",
    "\n",
    "img = cv2.imread(\"imori.jpg\")\n",
    "\n",
    "img_smooth = cv2.blur(img, ksize=(3, 3))\n",
    "\n",
    "cv2.imwrite(\"answers/img_smooth.jpg\", img_smooth)"
   ]
  },
  {
   "cell_type": "code",
   "execution_count": 38,
   "metadata": {},
   "outputs": [
    {
     "data": {
      "text/plain": [
       "True"
      ]
     },
     "execution_count": 38,
     "metadata": {},
     "output_type": "execute_result"
    }
   ],
   "source": [
    "#12\n",
    "import cv2 \n",
    "import numpy as np\n",
    "import matplotlib.pyplot as plt\n",
    "\n",
    "img = cv2.imread(\"imori.jpg\")\n",
    "kernel_motion = np.array([[1/3, 0, 0],\n",
    "                           [0, 1/3, 0], \n",
    "                           [0, 0, 1/3]],np.float32)\n",
    "\n",
    "img_motion = cv2.filter2D(img, -1, kernel=kernel_motion)\n",
    "\n",
    "cv2.imwrite(\"answers/img_motion.jpg\", img_motion)"
   ]
  },
  {
   "cell_type": "code",
   "execution_count": 32,
   "metadata": {},
   "outputs": [
    {
     "data": {
      "text/plain": [
       "True"
      ]
     },
     "execution_count": 32,
     "metadata": {},
     "output_type": "execute_result"
    }
   ],
   "source": [
    "#13\n",
    "import cv2\n",
    "import numpy as np\n",
    "img = cv2.imread(\"imori_gray.jpg\")\n",
    "\n",
    "row, col, bgr = img.shape\n",
    "R = 3\n",
    "pad = R // 2\n",
    "out = np.zeros((row + pad * 2, col + pad * 2, bgr), dtype=np.float64)\n",
    "out[pad:pad+row, pad:pad+col] = img.copy().astype(np.float64)\n",
    "tmp = out.copy()\n",
    "\n",
    "for i in range(row):\n",
    "    for j in range(col):\n",
    "        out[pad + i, pad + j, :] = np.max(tmp[i:i+R, j:j+R, :]) - np.min(tmp[i:i+R, j:j+R, :])\n",
    "\n",
    "img_max_min = out[pad:pad + row, pad:pad + col].astype(np.uint8)\n",
    "\n",
    "cv2.imwrite(\"answers/img_max-min.jpg\", img_max_min)"
   ]
  },
  {
   "cell_type": "code",
   "execution_count": 33,
   "metadata": {},
   "outputs": [
    {
     "data": {
      "text/plain": [
       "True"
      ]
     },
     "execution_count": 33,
     "metadata": {},
     "output_type": "execute_result"
    }
   ],
   "source": [
    "#14\n",
    "import cv2 \n",
    "import numpy as np\n",
    "import matplotlib.pyplot as plt\n",
    "\n",
    "img = cv2.imread(\"imori_gray.jpg\")\n",
    "kernel_gradient_x = np.array([[0, 0, 0],\n",
    "                           [-1, 1, 0], \n",
    "                           [0, 0, 0]],np.float32)\n",
    "\n",
    "kernel_gradient_y = np.array([[0, -1, 0],\n",
    "                           [0, 1, 0], \n",
    "                           [0, 0, 0]],np.float32)\n",
    "\n",
    "\n",
    "img_gradient_x = cv2.filter2D(img, -1, kernel=kernel_gradient_x)\n",
    "img_gradient_y = cv2.filter2D(img, -1, kernel=kernel_gradient_y)\n",
    "\n",
    "cv2.imwrite(\"answers/img_gradient_x.jpg\", img_gradient_x)\n",
    "cv2.imwrite(\"answers/img_gradient_y.jpg\", img_gradient_y)"
   ]
  },
  {
   "cell_type": "code",
   "execution_count": 34,
   "metadata": {},
   "outputs": [
    {
     "data": {
      "text/plain": [
       "True"
      ]
     },
     "execution_count": 34,
     "metadata": {},
     "output_type": "execute_result"
    }
   ],
   "source": [
    "#15\n",
    "import cv2 \n",
    "import numpy as np\n",
    "import matplotlib.pyplot as plt\n",
    "\n",
    "img = cv2.imread(\"imori_gray.jpg\")\n",
    "kernel_sobel_x = np.array([[1, 0, -1],\n",
    "                           [2, 0, -2], \n",
    "                           [1, 0, -1]],np.float32)\n",
    "\n",
    "kernel_sobel_y = np.array([[1, 2, 1],\n",
    "                           [0, 0, 0], \n",
    "                           [-1, -2, -1]],np.float32)\n",
    "\n",
    "\n",
    "img_sobel_x = cv2.filter2D(img, -1, kernel=kernel_sobel_x)\n",
    "img_sobel_y = cv2.filter2D(img, -1, kernel=kernel_sobel_y)\n",
    "\n",
    "cv2.imwrite(\"answers/img_sobel_x.jpg\", img_sobel_x)\n",
    "cv2.imwrite(\"answers/img_sobel_y.jpg\", img_sobel_y)"
   ]
  },
  {
   "cell_type": "code",
   "execution_count": 35,
   "metadata": {},
   "outputs": [
    {
     "data": {
      "text/plain": [
       "True"
      ]
     },
     "execution_count": 35,
     "metadata": {},
     "output_type": "execute_result"
    }
   ],
   "source": [
    "#16\n",
    "import cv2 \n",
    "import numpy as np\n",
    "import matplotlib.pyplot as plt\n",
    "\n",
    "img = cv2.imread(\"imori_gray.jpg\")\n",
    "kernel_prewitt_x = np.array([[-1, 0, 1],\n",
    "                           [-1, 0, 1], \n",
    "                           [-1, 0, 1]],np.float32)\n",
    "\n",
    "kernel_prewitt_y = np.array([[-1, -1, -1],\n",
    "                           [0, 0, 0], \n",
    "                           [1, 1, 1]],np.float32)\n",
    "\n",
    "\n",
    "img_prewitt_x = cv2.filter2D(img, -1, kernel=kernel_prewitt_x)\n",
    "img_prewitt_y = cv2.filter2D(img, -1, kernel=kernel_prewitt_y)\n",
    "\n",
    "cv2.imwrite(\"answers/img_prewitt_x.jpg\", img_prewitt_x)\n",
    "cv2.imwrite(\"answers/img_prewitt_y.jpg\", img_prewitt_y)"
   ]
  },
  {
   "cell_type": "code",
   "execution_count": 36,
   "metadata": {},
   "outputs": [
    {
     "data": {
      "text/plain": [
       "True"
      ]
     },
     "execution_count": 36,
     "metadata": {},
     "output_type": "execute_result"
    }
   ],
   "source": [
    "#17\n",
    "import cv2 \n",
    "import numpy as np\n",
    "import matplotlib.pyplot as plt\n",
    "\n",
    "img = cv2.imread(\"imori_gray.jpg\")\n",
    "kernel_laplace = np.array([[0, 1, 0],\n",
    "                           [1, -4, 0], \n",
    "                           [0, 1, 0]],np.float32)\n",
    "\n",
    "img_laplace = cv2.filter2D(img, -1, kernel=kernel_laplace)\n",
    "\n",
    "cv2.imwrite(\"answers/img_laplace.jpg\", img_laplace)"
   ]
  },
  {
   "cell_type": "code",
   "execution_count": 39,
   "metadata": {},
   "outputs": [
    {
     "data": {
      "text/plain": [
       "True"
      ]
     },
     "execution_count": 39,
     "metadata": {},
     "output_type": "execute_result"
    }
   ],
   "source": [
    "#18\n",
    "import cv2 \n",
    "import numpy as np\n",
    "import matplotlib.pyplot as plt\n",
    "\n",
    "img = cv2.imread(\"imori_gray.jpg\")\n",
    "kernel_emboss = np.array([[-2, -1, 0],\n",
    "                           [-1, 1, 1], \n",
    "                           [0, 1, 2]],np.float32)\n",
    "\n",
    "img_emboss = cv2.filter2D(img, -1, kernel=kernel_emboss)\n",
    "\n",
    "cv2.imwrite(\"answers/img_emboss.jpg\", img_emboss)"
   ]
  },
  {
   "cell_type": "code",
   "execution_count": null,
   "metadata": {},
   "outputs": [],
   "source": []
  }
 ],
 "metadata": {
  "kernelspec": {
   "display_name": "Python 3",
   "language": "python",
   "name": "python3"
  },
  "language_info": {
   "codemirror_mode": {
    "name": "ipython",
    "version": 3
   },
   "file_extension": ".py",
   "mimetype": "text/x-python",
   "name": "python",
   "nbconvert_exporter": "python",
   "pygments_lexer": "ipython3",
   "version": "3.11.4"
  },
  "orig_nbformat": 4
 },
 "nbformat": 4,
 "nbformat_minor": 2
}
